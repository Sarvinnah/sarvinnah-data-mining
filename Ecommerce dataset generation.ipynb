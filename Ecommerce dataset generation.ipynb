{
  "nbformat": 4,
  "nbformat_minor": 0,
  "metadata": {
    "colab": {
      "provenance": []
    },
    "kernelspec": {
      "name": "python3",
      "display_name": "Python 3"
    },
    "language_info": {
      "name": "python"
    }
  },
  "cells": [
    {
      "cell_type": "code",
      "source": [
        "!pip install faker"
      ],
      "metadata": {
        "colab": {
          "base_uri": "https://localhost:8080/"
        },
        "id": "uozYnDQn6-R_",
        "outputId": "b46518ea-358f-43d2-b46a-6b5a3804f4e7"
      },
      "execution_count": 3,
      "outputs": [
        {
          "output_type": "stream",
          "name": "stdout",
          "text": [
            "Collecting faker\n",
            "  Downloading Faker-22.0.0-py3-none-any.whl (1.7 MB)\n",
            "\u001b[2K     \u001b[90m━━━━━━━━━━━━━━━━━━━━━━━━━━━━━━━━━━━━━━━━\u001b[0m \u001b[32m1.7/1.7 MB\u001b[0m \u001b[31m7.6 MB/s\u001b[0m eta \u001b[36m0:00:00\u001b[0m\n",
            "\u001b[?25hRequirement already satisfied: python-dateutil>=2.4 in /usr/local/lib/python3.10/dist-packages (from faker) (2.8.2)\n",
            "Requirement already satisfied: six>=1.5 in /usr/local/lib/python3.10/dist-packages (from python-dateutil>=2.4->faker) (1.16.0)\n",
            "Installing collected packages: faker\n",
            "Successfully installed faker-22.0.0\n"
          ]
        }
      ]
    },
    {
      "cell_type": "code",
      "source": [
        "import csv\n",
        "from faker import Faker\n",
        "import random\n",
        "from datetime import datetime, timedelta\n",
        "\n",
        "fake = Faker()\n",
        "\n",
        "# Set the seed for reproducibility\n",
        "random.seed(42)\n",
        "\n",
        "# Generate a synthetic dataset with at least 1000 rows\n",
        "data = []\n",
        "\n",
        "for _ in range(1000):\n",
        "    customer_id = _ + 1\n",
        "    membership_level = random.choice(['Bronze', 'Silver', 'Gold', 'Platinum'])\n",
        "    total_purchases = random.randint(1, 50)\n",
        "    total_spent = random.uniform(50, 2000)\n",
        "    favorite_category = random.choice(['Electronics', 'Clothing', 'Home Goods'])\n",
        "    last_purchase_date = (datetime.now() - timedelta(days=random.randint(1, 365))).strftime('%Y-%m-%d')\n",
        "    occupation = fake.job()\n",
        "    website_visits_frequency = random.choice(['Daily', 'Weekly', 'Bi-weekly', 'Monthly'])\n",
        "\n",
        "    # Introduce missing values intentionally\n",
        "    if random.random() < 0.1:  # 10% chance of missing values\n",
        "        age = None\n",
        "        location = None\n",
        "        membership_level = None\n",
        "\n",
        "    # Determine item related to the favorite category\n",
        "    if favorite_category == 'Electronics':\n",
        "        item = random.choice(['Laptop', 'Smartphone', 'Headphones', 'Smartwatch'])\n",
        "    elif favorite_category == 'Clothing':\n",
        "        item = random.choice(['T-Shirt', 'Jeans', 'Sneakers', 'Dress'])\n",
        "    elif favorite_category == 'Home Goods':\n",
        "        item = random.choice(['Couch', 'Coffee Maker', 'Bedding Set', 'Lamp'])\n",
        "    else:\n",
        "        item = 'Unknown'\n",
        "\n",
        "    churn = random.choice([0, 1])\n",
        "\n",
        "    data.append([customer_id, age, gender, location, membership_level, total_purchases, total_spent,\n",
        "                 favorite_category, last_purchase_date, occupation, website_visits_frequency, item, churn])\n",
        "\n",
        "# Write the dataset to a CSV file\n",
        "with open('ecommerce_customer_behavior_dataset.csv', 'w', newline='') as csvfile:\n",
        "    csvwriter = csv.writer(csvfile)\n",
        "    # Write header\n",
        "    csvwriter.writerow(['CustomerID', 'Age', 'Gender', 'Location', 'MembershipLevel', 'TotalPurchases',\n",
        "                        'TotalSpent', 'FavoriteCategory', 'LastPurchaseDate', 'Occupation',\n",
        "                        'WebsiteVisitsFrequency', 'Item', 'Churn'])\n",
        "    # Write data\n",
        "    csvwriter.writerows(data)\n"
      ],
      "metadata": {
        "id": "TWgcboYcf_1k"
      },
      "execution_count": 5,
      "outputs": []
    },
    {
      "cell_type": "code",
      "source": [
        "import csv\n",
        "import random\n",
        "\n",
        "# Set the seed for reproducibility\n",
        "random.seed(42)\n",
        "\n",
        "# Generate a random Asian_Country data with at least 1000 rows\n",
        "data = []\n",
        "\n",
        "for customer_id in range(1, 1001):\n",
        "    age = random.randint(18, 65)\n",
        "    gender = random.choice(['Male', 'Female', 'Non-Binary'])\n",
        "    country = random.choice(['China', 'India', 'Indonesia', 'Pakistan', 'Bangladesh', 'Japan', 'Philippines', 'Vietnam', 'Turkey', 'Iran'])\n",
        "\n",
        "    # Introduce missing values intentionally\n",
        "    if random.random() < 0.1:  # 10% chance of missing values\n",
        "        asian_country = None\n",
        "\n",
        "    data.append([customer_id, asian_country])\n",
        "\n",
        "# Write the dataset to a CSV file\n",
        "with open('asian_countries.csv', 'w', newline='') as csvfile:\n",
        "    csvwriter = csv.writer(csvfile)\n",
        "    # Write header\n",
        "    csvwriter.writerow(['customer_id', 'asian_countries'])\n",
        "    # Write data\n",
        "    csvwriter.writerows(data)\n"
      ],
      "metadata": {
        "id": "ebiRpEpto6-N"
      },
      "execution_count": 21,
      "outputs": []
    }
  ]
}